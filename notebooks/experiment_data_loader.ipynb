{
 "cells": [
  {
   "metadata": {},
   "cell_type": "markdown",
   "source": [
    "# Experiment the Data Loader\n",
    "\n",
    "I wrote a script to validate the data loader for the MedMNIST dataset, as I was getting weird results from the model training. I wanted to ensure that the data loader was working as expected and that the data was being loaded correctly."
   ],
   "id": "f07c863c6e68fe3"
  },
  {
   "metadata": {
    "ExecuteTime": {
     "end_time": "2025-01-11T14:41:14.195337Z",
     "start_time": "2025-01-11T14:41:14.168040Z"
    }
   },
   "cell_type": "code",
   "source": [
    "from medmnist import ChestMNIST\n",
    "import torch\n",
    "from medmnist import INFO\n",
    "import numpy as np\n",
    "import matplotlib.pyplot as plt\n",
    "import seaborn as sns\n",
    "import torchvision.transforms as transforms\n",
    "\n",
    "# Set matplotlib to display inline in notebook\n",
    "plt.style.use(\"default\")\n",
    "\n",
    "# Load the datasets\n",
    "train_dataset = ChestMNIST(split=\"train\", download=True, size=64)\n",
    "val_dataset = ChestMNIST(split=\"val\", download=True, size=64)\n",
    "test_dataset = ChestMNIST(split=\"test\", download=True, size=64)\n",
    "\n",
    "# Print dataset sizes\n",
    "print(f\"Train dataset size: {len(train_dataset)}\")\n",
    "print(f\"Validation dataset size: {len(val_dataset)}\")\n",
    "print(f\"Test dataset size: {len(test_dataset)}\")\n",
    "\n",
    "# Get the chest info and labels\n",
    "chest_info = INFO[\"chestmnist\"]\n",
    "CHEST_CLASSES = [chest_info[\"label\"][str(i)] for i in range(14)]\n",
    "\n",
    "# Create transform for the images\n",
    "transform = transforms.Compose(\n",
    "    [\n",
    "        transforms.ToTensor(),\n",
    "    ]\n",
    ")\n",
    "\n",
    "# 1. Visualize sample images with their labels\n",
    "fig, axes = plt.subplots(2, 5, figsize=(15, 6))\n",
    "for i, ax in enumerate(axes.flatten()):\n",
    "    img, label = train_dataset[i]\n",
    "    img_tensor = transform(img)\n",
    "    ax.imshow(img_tensor.squeeze(), cmap=\"gray\")\n",
    "\n",
    "    # Convert binary vector to condition names\n",
    "    if isinstance(label, (torch.Tensor, np.ndarray)):\n",
    "        conditions = [CHEST_CLASSES[j] for j, v in enumerate(label) if v]\n",
    "        label_text = \"\\n\".join(conditions) if conditions else \"Normal\"\n",
    "    else:\n",
    "        label_text = CHEST_CLASSES[label]\n",
    "\n",
    "    ax.set_title(f\"Condition:\\n{label_text}\", fontsize=8)\n",
    "    ax.axis(\"off\")\n",
    "\n",
    "plt.suptitle(\"Sample Chest X-ray Images\", y=1.05)\n",
    "plt.tight_layout()\n",
    "plt.show()\n",
    "\n",
    "# 2. Analyze class distribution\n",
    "labels = [label for _, label in train_dataset]\n",
    "if isinstance(labels[0], (torch.Tensor, np.ndarray)):\n",
    "    # For multi-label case\n",
    "    labels_array = np.array(labels)\n",
    "    label_counts = np.sum(labels_array, axis=0)\n",
    "\n",
    "    # Create distribution plot\n",
    "    plt.figure(figsize=(15, 6))\n",
    "    sns.barplot(x=CHEST_CLASSES, y=label_counts)\n",
    "    plt.title(\n",
    "        f\"Class Distribution in Training Set\\nTotal samples: {len(train_dataset)}\"\n",
    "    )\n",
    "    plt.xlabel(\"Condition\")\n",
    "    plt.ylabel(\"Count\")\n",
    "    plt.xticks(rotation=45, ha=\"right\")\n",
    "    plt.tight_layout()\n",
    "    plt.show()\n",
    "\n",
    "    # Print statistics\n",
    "    print(\"\\nLabel Statistics:\")\n",
    "    print(f\"Total number of samples: {len(train_dataset)}\")\n",
    "    for i, count in enumerate(label_counts):\n",
    "        percentage = (count / len(train_dataset)) * 100\n",
    "        print(f\"{CHEST_CLASSES[i]}: {count} ({percentage:.1f}%)\")\n",
    "\n",
    "    # 3. Optional: Print class imbalance ratio\n",
    "    max_count = max(label_counts)\n",
    "    min_count = min(label_counts)\n",
    "    imbalance_ratio = max_count / min_count\n",
    "    print(f\"\\nImbalance ratio (max/min): {imbalance_ratio:.2f}\")\n",
    "    print(f\"Most common condition: {CHEST_CLASSES[np.argmax(label_counts)]}\")\n",
    "    print(f\"Least common condition: {CHEST_CLASSES[np.argmin(label_counts)]}\")"
   ],
   "id": "93158d72a88121be",
   "outputs": [
    {
     "ename": "ImportError",
     "evalue": "cannot import name 'ChestMNIST' from 'medmnist' (/home/a/.cache/pypoetry/virtualenvs/mnist-chest-xray-classification-TNGwvxiU-py3.12/lib/python3.12/site-packages/medmnist/__init__.py)",
     "output_type": "error",
     "traceback": [
      "\u001b[0;31m---------------------------------------------------------------------------\u001b[0m",
      "\u001b[0;31mImportError\u001b[0m                               Traceback (most recent call last)",
      "Cell \u001b[0;32mIn[4], line 1\u001b[0m\n\u001b[0;32m----> 1\u001b[0m \u001b[38;5;28;01mfrom\u001b[39;00m\u001b[38;5;250m \u001b[39m\u001b[38;5;21;01mmedmnist\u001b[39;00m\u001b[38;5;250m \u001b[39m\u001b[38;5;28;01mimport\u001b[39;00m ChestMNIST\n\u001b[1;32m      2\u001b[0m \u001b[38;5;28;01mimport\u001b[39;00m\u001b[38;5;250m \u001b[39m\u001b[38;5;21;01mtorch\u001b[39;00m\n\u001b[1;32m      3\u001b[0m \u001b[38;5;28;01mfrom\u001b[39;00m\u001b[38;5;250m \u001b[39m\u001b[38;5;21;01mmedmnist\u001b[39;00m\u001b[38;5;250m \u001b[39m\u001b[38;5;28;01mimport\u001b[39;00m INFO\n",
      "\u001b[0;31mImportError\u001b[0m: cannot import name 'ChestMNIST' from 'medmnist' (/home/a/.cache/pypoetry/virtualenvs/mnist-chest-xray-classification-TNGwvxiU-py3.12/lib/python3.12/site-packages/medmnist/__init__.py)"
     ]
    }
   ],
   "execution_count": 4
  }
 ],
 "metadata": {
  "kernelspec": {
   "display_name": "Python 3",
   "language": "python",
   "name": "python3"
  },
  "language_info": {
   "codemirror_mode": {
    "name": "ipython",
    "version": 2
   },
   "file_extension": ".py",
   "mimetype": "text/x-python",
   "name": "python",
   "nbconvert_exporter": "python",
   "pygments_lexer": "ipython2",
   "version": "2.7.6"
  }
 },
 "nbformat": 4,
 "nbformat_minor": 5
}
